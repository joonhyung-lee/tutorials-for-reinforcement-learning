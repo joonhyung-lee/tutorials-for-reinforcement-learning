{
 "cells": [
  {
   "cell_type": "code",
   "execution_count": 10,
   "metadata": {},
   "outputs": [
    {
     "name": "stdout",
     "output_type": "stream",
     "text": [
      "Episode: 300000\n",
      "Training finished.\n",
      "\n",
      "Q-function:\n",
      "[[0.01461424 0.01398789 0.0131608  0.01264194]\n",
      " [0.00741789 0.01052473 0.01002933 0.01446312]\n",
      " [0.02166435 0.02103929 0.02116748 0.01352727]\n",
      " [0.00957021 0.0095984  0.0069297  0.01224244]\n",
      " [0.02122314 0.01652028 0.01585131 0.01036036]\n",
      " [0.         0.         0.         0.        ]\n",
      " [0.05132546 0.04755657 0.04916686 0.00675574]\n",
      " [0.         0.         0.         0.        ]\n",
      " [0.01618288 0.03821769 0.03627472 0.0488777 ]\n",
      " [0.06980008 0.1064766  0.09321511 0.05044041]\n",
      " [0.16184612 0.17436988 0.14046497 0.04154171]\n",
      " [0.         0.         0.         0.        ]\n",
      " [0.         0.         0.         0.        ]\n",
      " [0.08098459 0.18253375 0.23610153 0.16140433]\n",
      " [0.22033115 0.49944121 0.46713118 0.43138571]\n",
      " [0.         0.         0.         0.        ]]\n",
      "Value function:\n",
      "[0.01360122 0.01060877 0.0193496  0.00958519 0.01598877 0.\n",
      " 0.03870116 0.         0.03488825 0.07998305 0.12955567 0.\n",
      " 0.         0.16525605 0.40457231 0.        ]\n"
     ]
    }
   ],
   "source": [
    "import gym\n",
    "import numpy as np\n",
    "import random\n",
    "from IPython.display import clear_output\n",
    "env = gym.make('FrozenLake-v0')\n",
    "Q = np.zeros([env.nS, env.nA])\n",
    "alpha = 0.01\n",
    "gamma = 1\n",
    "\n",
    "for i in range(1, 300001):\n",
    "    state = env.reset()\n",
    "    epochs, reward, = 0, 0\n",
    "    done = False\n",
    "    action = env.action_space.sample() \n",
    "    while not done:\n",
    "        next_state, reward, done, info = env.step(action)\n",
    "        next_action = env.action_space.sample() \n",
    "        if done:\n",
    "            Q[state,action] = (1 - alpha) * Q[state,action] + alpha * (reward)\n",
    "        else:\n",
    "            Q[state,action] = (1 - alpha) * Q[state,action] + alpha * (reward + gamma * Q[next_state,next_action])\n",
    "        state = next_state\n",
    "        action = next_action\n",
    "        epochs = epochs + 1\n",
    "    if i % 100 == 0:\n",
    "        clear_output(wait=True)\n",
    "        print('Episode: {0}'.format(i))\n",
    "print(\"Training finished.\\n\")\n",
    "\n",
    "\n",
    "print(\"Q-function:\")\n",
    "print(Q)\n",
    "\n",
    "\n",
    "random_policy = np.ones([env.nS, env.nA]) / env.nA\n",
    "V = np.zeros(env.nS)\n",
    "for s in range(env.nS):\n",
    "    for a in range(env.nA):\n",
    "        V[s] = V[s] + random_policy[s,a] * Q[s,a]\n",
    "print(\"Value function:\")                      \n",
    "print(V)"
   ]
  },
  {
   "cell_type": "code",
   "execution_count": null,
   "metadata": {},
   "outputs": [],
   "source": []
  },
  {
   "cell_type": "code",
   "execution_count": null,
   "metadata": {},
   "outputs": [],
   "source": []
  }
 ],
 "metadata": {
  "kernelspec": {
   "display_name": "Python 3",
   "language": "python",
   "name": "python3"
  },
  "language_info": {
   "codemirror_mode": {
    "name": "ipython",
    "version": 3
   },
   "file_extension": ".py",
   "mimetype": "text/x-python",
   "name": "python",
   "nbconvert_exporter": "python",
   "pygments_lexer": "ipython3",
   "version": "3.8.3"
  }
 },
 "nbformat": 4,
 "nbformat_minor": 4
}
