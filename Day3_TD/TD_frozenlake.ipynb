{
 "cells": [
  {
   "cell_type": "code",
   "execution_count": 2,
   "metadata": {},
   "outputs": [
    {
     "name": "stdout",
     "output_type": "stream",
     "text": [
      "Episode: 19900\n",
      "Training finished.\n",
      "\n",
      "[0.0109757  0.00885786 0.01647578 0.00868846 0.0129279  0.\n",
      " 0.03396373 0.         0.02886849 0.07088976 0.11665339 0.\n",
      " 0.         0.12951633 0.35245641 0.        ]\n"
     ]
    }
   ],
   "source": [
    "import gym\n",
    "import numpy as np\n",
    "import random\n",
    "from IPython.display import clear_output\n",
    "\n",
    "\n",
    "env = gym.make('FrozenLake-v0')\n",
    "#env = gym.make('FrozenLake-v0', is_slippery=False)\n",
    "\n",
    "V = np.zeros(env.nS)\n",
    "\n",
    "alpha = 0.01\n",
    "gamma = 1\n",
    "\n",
    "for i in range(1,20000):\n",
    "    state = env.reset()\n",
    "    epochs, reward, = 0, 0\n",
    "    done = False\n",
    "    action = env.action_space.sample() \n",
    "\n",
    "    while not done:\n",
    "        next_state, reward, done, info = env.step(action)\n",
    "        next_action = env.action_space.sample() \n",
    "\n",
    "        if done:\n",
    "            V[state] = (1 - alpha) * V[state] + alpha * (reward)\n",
    "        else:\n",
    "            V[state] = (1 - alpha) * V[state] + alpha * (reward + gamma * V[next_state])\n",
    "\n",
    "        state = next_state\n",
    "        action = next_action\n",
    "        epochs = epochs + 1\n",
    "\n",
    "    if i % 100 == 0:\n",
    "        clear_output(wait=True)\n",
    "        print('Episode: {0}'.format(i))\n",
    "\n",
    "print(\"Training finished.\\n\")\n",
    "print(V)\n",
    "\n"
   ]
  },
  {
   "cell_type": "code",
   "execution_count": null,
   "metadata": {},
   "outputs": [],
   "source": []
  }
 ],
 "metadata": {
  "kernelspec": {
   "display_name": "Python 3",
   "language": "python",
   "name": "python3"
  },
  "language_info": {
   "codemirror_mode": {
    "name": "ipython",
    "version": 3
   },
   "file_extension": ".py",
   "mimetype": "text/x-python",
   "name": "python",
   "nbconvert_exporter": "python",
   "pygments_lexer": "ipython3",
   "version": "3.8.3"
  }
 },
 "nbformat": 4,
 "nbformat_minor": 4
}
