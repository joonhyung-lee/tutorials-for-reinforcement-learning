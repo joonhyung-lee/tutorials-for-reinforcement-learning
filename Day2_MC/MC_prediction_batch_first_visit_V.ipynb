{
 "cells": [
  {
   "cell_type": "code",
   "execution_count": 2,
   "metadata": {},
   "outputs": [
    {
     "name": "stdout",
     "output_type": "stream",
     "text": [
      "Value Function:\n",
      "[0.         0.01023349 0.01889982 0.00806895 0.01358923 0.\n",
      " 0.03822236 0.         0.03002502 0.07935627 0.1268945  0.\n",
      " 0.         0.16276596 0.42572215 0.        ]\n"
     ]
    }
   ],
   "source": [
    "import gym\n",
    "import numpy as np\n",
    "import sys\n",
    "from collections import defaultdict\n",
    "env = gym.make('FrozenLake-v0')\n",
    "# env = gym.make('FrozenLake-v0', is_slippery=False)\n",
    "env = gym.wrappers.TimeLimit(env, max_episode_steps = 20)\n",
    "\n",
    "def generate_episode(policy, env):\n",
    "    # we initialize the list for storing states, actions, and rewards\n",
    "    states, actions, rewards = [], [], []\n",
    "    # Initialize the gym environment\n",
    "    observation = env.reset()\n",
    "    while True:\n",
    "        # append the states to the states list\n",
    "        states.append(observation)\n",
    "        # now, we select an action using our sample_policy function and append the action to actions list\n",
    "        probs = policy[observation]\n",
    "        action = np.random.choice(np.arange(len(probs)), p=probs)\n",
    "        actions.append(action)\n",
    "        # We perform the action in the environment according to our sample_policy, move to the next state\n",
    "        # and receive reward\n",
    "        observation, reward, done, info = env.step(action)\n",
    "        rewards.append(reward)\n",
    "        # Break if the state is a terminal state\n",
    "        if done:\n",
    "             break\n",
    "    return states, actions, rewards\n",
    "\n",
    "\n",
    "def first_visit_mc_prediction(env,random_policy, n_episodes):\n",
    "    V = np.zeros(env.observation_space.n)\n",
    "    memory =  defaultdict(list)\n",
    "    for episode in range(n_episodes):\n",
    "        states, actions, rewards = generate_episode(random_policy, env)\n",
    "        returns = 0\n",
    "        for t in range(len(states) - 1, -1, -1):\n",
    "            R = rewards[t]\n",
    "            S = states[t]\n",
    "            A = actions[t]\n",
    "            returns = returns + R\n",
    "            if S not in states[:t]:\n",
    "                memory[S].append(returns)\n",
    "                V[S] = np.average(memory[S])\n",
    "    return V\n",
    "\n",
    "random_policy = np.ones([env.nS, env.nA]) / env.nA\n",
    "V = first_visit_mc_prediction(env,random_policy, n_episodes=50000)\n",
    "\n",
    "print(\"Value Function:\")\n",
    "print(V)    \n",
    "\n"
   ]
  },
  {
   "cell_type": "code",
   "execution_count": null,
   "metadata": {},
   "outputs": [],
   "source": []
  }
 ],
 "metadata": {
  "kernelspec": {
   "display_name": "Python 3",
   "language": "python",
   "name": "python3"
  },
  "language_info": {
   "codemirror_mode": {
    "name": "ipython",
    "version": 3
   },
   "file_extension": ".py",
   "mimetype": "text/x-python",
   "name": "python",
   "nbconvert_exporter": "python",
   "pygments_lexer": "ipython3",
   "version": "3.8.3"
  }
 },
 "nbformat": 4,
 "nbformat_minor": 4
}
