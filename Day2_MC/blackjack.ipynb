{
 "cells": [
  {
   "cell_type": "code",
   "execution_count": 3,
   "metadata": {},
   "outputs": [
    {
     "name": "stdout",
     "output_type": "stream",
     "text": [
      "Action Space Discrete(2)\n",
      "State Space Tuple(Discrete(32), Discrete(11), Discrete(2))\n",
      "(29, 2, False) (19, 2, False) 1\n"
     ]
    }
   ],
   "source": [
    "import gym\n",
    "from time import sleep\n",
    "\n",
    "env = gym.make('Blackjack-v0')\n",
    "\n",
    "\n",
    "\n",
    "print(\"Action Space {}\".format(env.action_space))\n",
    "print(\"State Space {}\".format(env.observation_space))\n",
    "\n",
    "\n",
    "state = env.reset()\n",
    "\n",
    "\n",
    "done = False\n",
    "while not done:\n",
    "    action = 1\n",
    "    new_state, reward, done, info = env.step(action)\n",
    "    print(new_state,state,action)\n",
    "\n",
    "    \n",
    "# for state in range(env.observation_space.n):\n",
    "#     for action in range(env.action_space.n):\n",
    "#         print(env.P[state][action])\n"
   ]
  },
  {
   "cell_type": "code",
   "execution_count": null,
   "metadata": {},
   "outputs": [],
   "source": []
  },
  {
   "cell_type": "code",
   "execution_count": null,
   "metadata": {},
   "outputs": [],
   "source": []
  },
  {
   "cell_type": "code",
   "execution_count": null,
   "metadata": {},
   "outputs": [],
   "source": []
  },
  {
   "cell_type": "code",
   "execution_count": null,
   "metadata": {},
   "outputs": [],
   "source": []
  }
 ],
 "metadata": {
  "kernelspec": {
   "display_name": "Python 3",
   "language": "python",
   "name": "python3"
  },
  "language_info": {
   "codemirror_mode": {
    "name": "ipython",
    "version": 3
   },
   "file_extension": ".py",
   "mimetype": "text/x-python",
   "name": "python",
   "nbconvert_exporter": "python",
   "pygments_lexer": "ipython3",
   "version": "3.8.3"
  }
 },
 "nbformat": 4,
 "nbformat_minor": 4
}
