{
 "cells": [
  {
   "cell_type": "code",
   "execution_count": 6,
   "metadata": {
    "colab": {
     "base_uri": "https://localhost:8080/",
     "height": 107
    },
    "colab_type": "code",
    "executionInfo": {
     "elapsed": 5804,
     "status": "ok",
     "timestamp": 1597114692449,
     "user": {
      "displayName": "Okyong Choi",
      "photoUrl": "https://lh3.googleusercontent.com/a-/AOh14GgXt3H1vBv3hDstzKZEIDl0RZQP9ouHdNHms_-n8g=s64",
      "userId": "02726249487150490039"
     },
     "user_tz": -540
    },
    "id": "SYtXmPlcorjk",
    "outputId": "fac517a5-2a3f-4893-a473-b965881d2ce8"
   },
   "outputs": [
    {
     "name": "stdout",
     "output_type": "stream",
     "text": [
      "Value Function:\n",
      "[0.00972861 0.00701211 0.01062405 0.00180085 0.01192766 0.\n",
      " 0.02715052 0.         0.02835433 0.07497612 0.12510117 0.\n",
      " 0.         0.17469534 0.41720763 0.        ]\n"
     ]
    }
   ],
   "source": [
    "import gym\n",
    "import numpy as np\n",
    "from collections import defaultdict\n",
    "\n",
    "\n",
    "env = gym.make('FrozenLake-v0')\n",
    "# env = gym.make('FrozenLake-v0', is_slippery=False)\n",
    "env = gym.wrappers.TimeLimit(env, max_episode_steps = 20)\n",
    "\n",
    "# We define a function called generate_episode for generating epsiodes\n",
    "def generate_episode(policy, env):\n",
    "    # we initialize the list for storing states, actions, and rewards\n",
    "    states, actions, rewards = [], [], []\n",
    "    # Initialize the gym environment\n",
    "    observation = env.reset()\n",
    "    while True:\n",
    "        # append the states to the states list\n",
    "        states.append(observation)\n",
    "        # now, we select an action using our sample_policy function and append the action to actions list\n",
    "        probs = policy[observation]\n",
    "        action = np.random.choice(np.arange(len(probs)), p=probs)\n",
    "        actions.append(action)\n",
    "        # We perform the action in the environment according to our sample_policy, move to the next state\n",
    "        # and receive reward\n",
    "        observation, reward, done, info = env.step(action)\n",
    "        rewards.append(reward)\n",
    "        # Break if the state is a terminal state\n",
    "        if done:\n",
    "             break\n",
    "\n",
    "    return states, actions, rewards\n",
    "\n",
    "\n",
    "#  Now that we learned how to generate an episode, we will see how to perform First Vist MC Prediction\n",
    "def every_visit_mc_prediction(env, random_policy, n_episodes):\n",
    "    Q = np.zeros([env.observation_space.n, env.action_space.n])\n",
    "    memory =  defaultdict(list)\n",
    "    for _ in range(n_episodes):\n",
    "        # Next, we generate the epsiode and store the states and rewards\n",
    "        states, actions, rewards = generate_episode(random_policy, env)\n",
    "        returns = 0\n",
    "        # Then for each step, we store the rewards to a variable R and states to S, and we calculate\n",
    "        # returns as a sum of rewards\n",
    "        for t in range(len(states) - 1, -1, -1):\n",
    "            R = rewards[t]\n",
    "            S = states[t]\n",
    "            A = actions[t]\n",
    "            returns = returns + R\n",
    "            memory[S,A].append(returns)\n",
    "            Q[S,A] = np.average(memory[S,A])\n",
    "    return Q\n",
    "\n",
    "random_policy = np.ones([env.nS, env.nA]) / env.nA\n",
    "Q = every_visit_mc_prediction(env,random_policy, n_episodes = 50000)\n",
    "\n",
    "V = np.zeros(env.nS)\n",
    "for s in range(env.nS):\n",
    "    for a in range(env.nA):\n",
    "        V[s] = V[s] + random_policy[s,a] * Q[s,a]\n",
    "print(\"Value Function:\")\n",
    "print(V)    \n",
    "\n"
   ]
  },
  {
   "cell_type": "code",
   "execution_count": null,
   "metadata": {
    "colab": {},
    "colab_type": "code",
    "id": "xYhTwN_99o6X"
   },
   "outputs": [],
   "source": []
  },
  {
   "cell_type": "code",
   "execution_count": null,
   "metadata": {},
   "outputs": [],
   "source": []
  }
 ],
 "metadata": {
  "colab": {
   "collapsed_sections": [],
   "name": "MC_prediction_batch_every_visit.ipynb",
   "provenance": []
  },
  "kernelspec": {
   "display_name": "Python 3",
   "language": "python",
   "name": "python3"
  },
  "language_info": {
   "codemirror_mode": {
    "name": "ipython",
    "version": 3
   },
   "file_extension": ".py",
   "mimetype": "text/x-python",
   "name": "python",
   "nbconvert_exporter": "python",
   "pygments_lexer": "ipython3",
   "version": "3.8.3"
  }
 },
 "nbformat": 4,
 "nbformat_minor": 1
}
