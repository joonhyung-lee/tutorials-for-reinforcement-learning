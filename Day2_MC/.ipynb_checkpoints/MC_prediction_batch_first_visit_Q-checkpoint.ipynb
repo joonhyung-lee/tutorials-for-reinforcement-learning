{
 "cells": [
  {
   "cell_type": "code",
   "execution_count": 7,
   "metadata": {},
   "outputs": [
    {
     "name": "stdout",
     "output_type": "stream",
     "text": [
      "Value Function:\n",
      "[0.01025502 0.00889055 0.01683126 0.00571904 0.0131423  0.\n",
      " 0.0352736  0.         0.03069913 0.07874477 0.13308878 0.\n",
      " 0.         0.17770255 0.42998111 0.        ]\n"
     ]
    }
   ],
   "source": [
    "import gym\n",
    "import numpy as np\n",
    "import sys\n",
    "from collections import defaultdict\n",
    "env = gym.make('FrozenLake-v0')\n",
    "# env = gym.make('FrozenLake-v0', is_slippery=False)\n",
    "env = gym.wrappers.TimeLimit(env, max_episode_steps = 20)\n",
    "\n",
    "def generate_episode(policy, env):\n",
    "    states, actions, rewards = [], [], []\n",
    "    observation = env.reset()\n",
    "    while True:\n",
    "        states.append(observation)\n",
    "        probs = policy[observation]\n",
    "        action = np.random.choice(np.arange(len(probs)), p=probs)\n",
    "        actions.append(action)\n",
    "        observation, reward, done, info = env.step(action)\n",
    "        rewards.append(reward)\n",
    "        if done:\n",
    "             break\n",
    "    return states, actions, rewards\n",
    "\n",
    "\n",
    "def first_visit_mc_prediction(env,random_policy, n_episodes):\n",
    "    Q = np.zeros([env.observation_space.n, env.action_space.n])\n",
    "    memory =  defaultdict(list)\n",
    "    for episode in range(n_episodes):\n",
    "        states, actions, rewards = generate_episode(random_policy, env)\n",
    "        returns = 0\n",
    "        for t in range(len(states) - 1, -1, -1):\n",
    "            R = rewards[t]\n",
    "            S = states[t]\n",
    "            A = actions[t]\n",
    "            returns = returns + R\n",
    "            if tuple([S, A]) not in tuple(zip(states[:t], actions[:t])):\n",
    "                memory[S,A].append(returns)\n",
    "                Q[S,A] = np.average(memory[S,A])\n",
    "    return Q\n",
    "\n",
    "random_policy = np.ones([env.nS, env.nA]) / env.nA\n",
    "Q = first_visit_mc_prediction(env,random_policy, n_episodes=50000)\n",
    "\n",
    "V = np.zeros(env.nS)\n",
    "for s in range(env.nS):\n",
    "    for a in range(env.nA):\n",
    "        V[s] = V[s] + random_policy[s,a] * Q[s,a]\n",
    "\n",
    "print(\"Value Function:\")\n",
    "print(V)    \n",
    "\n"
   ]
  },
  {
   "cell_type": "code",
   "execution_count": null,
   "metadata": {},
   "outputs": [],
   "source": []
  }
 ],
 "metadata": {
  "kernelspec": {
   "display_name": "Python 3",
   "language": "python",
   "name": "python3"
  },
  "language_info": {
   "codemirror_mode": {
    "name": "ipython",
    "version": 3
   },
   "file_extension": ".py",
   "mimetype": "text/x-python",
   "name": "python",
   "nbconvert_exporter": "python",
   "pygments_lexer": "ipython3",
   "version": "3.8.3"
  }
 },
 "nbformat": 4,
 "nbformat_minor": 4
}
