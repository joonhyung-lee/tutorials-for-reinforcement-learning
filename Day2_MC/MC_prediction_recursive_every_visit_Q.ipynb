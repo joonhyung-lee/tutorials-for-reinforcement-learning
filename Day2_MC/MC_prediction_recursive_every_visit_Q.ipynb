{
 "cells": [
  {
   "cell_type": "code",
   "execution_count": 2,
   "metadata": {},
   "outputs": [
    {
     "name": "stdout",
     "output_type": "stream",
     "text": [
      "Value Function:\n",
      "[0.01091313 0.00755501 0.01412454 0.00468767 0.01401101 0.\n",
      " 0.03410772 0.         0.03094505 0.07978614 0.13212841 0.\n",
      " 0.         0.14445275 0.40604664 0.        ]\n"
     ]
    }
   ],
   "source": [
    "import gym\n",
    "import numpy as np\n",
    "env = gym.make('FrozenLake-v0')\n",
    "# env = gym.make('FrozenLake-v0', is_slippery=False)\n",
    "env = gym.wrappers.TimeLimit(env, max_episode_steps = 20)\n",
    "\n",
    "# We define a function called generate_episode for generating epsiodes\n",
    "def generate_episode(policy, env):\n",
    "    # we initialize the list for storing states, actions, and rewards\n",
    "    states, actions, rewards = [], [], []\n",
    "    # Initialize the gym environment\n",
    "    state = env.reset()\n",
    "    while True:\n",
    "        # append the states to the states list\n",
    "        states.append(state)\n",
    "        # now, we select an action using our sample_policy function and append the action to actions list\n",
    "        probs = policy[state]\n",
    "        action = np.random.choice(np.arange(len(probs)), p=probs)\n",
    "        actions.append(action)\n",
    "        # We perform the action in the environment according to our sample_policy, move to the next state\n",
    "        # and receive reward\n",
    "        state, reward, done, info = env.step(action)\n",
    "        rewards.append(reward)\n",
    "        # Break if the state is a terminal state\n",
    "        if done:\n",
    "             break\n",
    "    return states, actions, rewards\n",
    "\n",
    "\n",
    "#  Now that we learned how to generate an episode, we will see how to perform First Vist MC Prediction\n",
    "def every_visit_mc_prediction(env,random_policy, n_episodes):\n",
    "    N = np.zeros([env.nS, env.nA])\n",
    "    Q = np.zeros([env.nS, env.nA])\n",
    "    for _ in range(n_episodes):\n",
    "        states, actions, rewards = generate_episode(random_policy, env)\n",
    "        G = 0\n",
    "        for t in range(len(states) - 1, -1, -1):\n",
    "            S = states[t]\n",
    "            A = actions[t]\n",
    "            G = G + rewards[t]\n",
    "            N[S,A] = N[S,A] + 1\n",
    "            Q[S,A] = Q[S,A] + (G - Q[S,A]) / N[S,A]\n",
    "    return Q\n",
    "\n",
    "random_policy = np.ones([env.nS, env.nA]) / env.nA\n",
    "Q = every_visit_mc_prediction(env,random_policy, n_episodes=50000)\n",
    "\n",
    "V = np.zeros(env.nS)\n",
    "for s in range(env.nS):\n",
    "    for a in range(env.nA):\n",
    "        V[s] = V[s] + random_policy[s,a] * Q[s,a]\n",
    "\n",
    "print(\"Value Function:\")\n",
    "print(V)    \n",
    "\n"
   ]
  },
  {
   "cell_type": "code",
   "execution_count": null,
   "metadata": {},
   "outputs": [],
   "source": []
  }
 ],
 "metadata": {
  "kernelspec": {
   "display_name": "Python 3",
   "language": "python",
   "name": "python3"
  },
  "language_info": {
   "codemirror_mode": {
    "name": "ipython",
    "version": 3
   },
   "file_extension": ".py",
   "mimetype": "text/x-python",
   "name": "python",
   "nbconvert_exporter": "python",
   "pygments_lexer": "ipython3",
   "version": "3.8.3"
  }
 },
 "nbformat": 4,
 "nbformat_minor": 4
}
