{
 "cells": [
  {
   "cell_type": "code",
   "execution_count": 2,
   "metadata": {
    "scrolled": false
   },
   "outputs": [
    {
     "name": "stdout",
     "output_type": "stream",
     "text": [
      "Value Function:\n",
      "[0.01186211 0.00882561 0.01644486 0.00659898 0.01379513 0.\n",
      " 0.03565378 0.         0.03115629 0.08158187 0.13113699 0.\n",
      " 0.         0.16144388 0.42000066 0.        ]\n"
     ]
    }
   ],
   "source": [
    "import gym\n",
    "import numpy as np\n",
    "\n",
    "\n",
    "env = gym.make('FrozenLake-v0')\n",
    "# env = gym.make('FrozenLake-v0', is_slippery=False)\n",
    "env = gym.wrappers.TimeLimit(env, max_episode_steps = 20)\n",
    "\n",
    "# We define a function called generate_episode for generating epsiodes\n",
    "def generate_episode(policy, env):\n",
    "    # we initialize the list for storing states, actions, and rewards\n",
    "    states, actions, rewards = [], [], []\n",
    "    # Initialize the gym environment\n",
    "    state = env.reset()\n",
    "    while True:\n",
    "        # append the states to the states list\n",
    "        states.append(state)\n",
    "        # now, we select an action using our sample_policy function and append the action to actions list\n",
    "        probs = policy[state]\n",
    "        action = np.random.choice(np.arange(len(probs)), p=probs)\n",
    "        actions.append(action)\n",
    "        # We perform the action in the environment according to our sample_policy, move to the next state\n",
    "        # and receive reward\n",
    "        state, reward, done, info = env.step(action)\n",
    "        rewards.append(reward)\n",
    "        # Break if the state is a terminal state\n",
    "        if done:\n",
    "             break\n",
    "    return states, actions, rewards\n",
    "\n",
    "\n",
    "#  Now that we learned how to generate an episode, we will see how to perform First Vist MC Prediction\n",
    "\n",
    "def first_visit_mc_prediction(env,random_policy, n_episodes):\n",
    "    N = np.zeros([env.nS, env.nA])\n",
    "    Q = np.zeros([env.nS, env.nA])\n",
    "    for _ in range(n_episodes):\n",
    "        states, actions, rewards = generate_episode(random_policy, env)\n",
    "        G = 0\n",
    "        for t in range(len(states) - 1, -1, -1):\n",
    "            S = states[t]\n",
    "            A = actions[t]\n",
    "            G = G + rewards[t]\n",
    "            if tuple([S, A]) not in tuple(zip(states[:t], actions[:t])):\n",
    "                    N[S,A] = N[S,A] + 1\n",
    "                    Q[S,A] = Q[S,A] + (G - Q[S,A]) / N[S,A]\n",
    "    return Q\n",
    "\n",
    "random_policy = np.ones([env.nS, env.nA]) / env.nA\n",
    "Q = first_visit_mc_prediction(env,random_policy, n_episodes=500000)\n",
    "\n",
    "V = np.zeros(env.nS)\n",
    "for s in range(env.nS):\n",
    "    for a in range(env.nA):\n",
    "        V[s] = V[s] + random_policy[s,a] * Q[s,a]\n",
    "\n",
    "print(\"Value Function:\")\n",
    "print(V)    \n",
    "\n"
   ]
  },
  {
   "cell_type": "code",
   "execution_count": null,
   "metadata": {},
   "outputs": [],
   "source": []
  }
 ],
 "metadata": {
  "kernelspec": {
   "display_name": "Python 3",
   "language": "python",
   "name": "python3"
  },
  "language_info": {
   "codemirror_mode": {
    "name": "ipython",
    "version": 3
   },
   "file_extension": ".py",
   "mimetype": "text/x-python",
   "name": "python",
   "nbconvert_exporter": "python",
   "pygments_lexer": "ipython3",
   "version": "3.8.3"
  }
 },
 "nbformat": 4,
 "nbformat_minor": 4
}
