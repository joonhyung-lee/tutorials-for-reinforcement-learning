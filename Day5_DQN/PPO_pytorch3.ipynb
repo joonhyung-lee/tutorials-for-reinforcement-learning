{
 "cells": [
  {
   "cell_type": "code",
   "execution_count": 6,
   "metadata": {},
   "outputs": [
    {
     "name": "stdout",
     "output_type": "stream",
     "text": [
      "# of episode :1980, avg score : 396.4\n"
     ]
    }
   ],
   "source": [
    "import gym\n",
    "import torch\n",
    "import torch.nn as nn\n",
    "import torch.nn.functional as F\n",
    "import torch.optim as optim\n",
    "from torch.distributions import Categorical\n",
    "from IPython.display import clear_output\n",
    "from time import sleep\n",
    "import matplotlib.pyplot as plt\n",
    "import numpy as np\n",
    "\n",
    "\n",
    "#Hyperparameters\n",
    "learning_rate = 0.0005\n",
    "gamma         = 0.98\n",
    "lmbda         = 0.95\n",
    "eps_clip      = 0.1\n",
    "K_epoch       = 3\n",
    "T_horizon     = 20\n",
    "\n",
    "class PPO(nn.Module):\n",
    "    def __init__(self):\n",
    "        super(PPO, self).__init__()\n",
    "   \n",
    "        self.fc1   = nn.Linear(4,256)\n",
    "        self.fc_pi = nn.Linear(256,2)\n",
    "        self.fc_v  = nn.Linear(256,1)\n",
    "        \n",
    "\n",
    "    def pi(self, x, softmax_dim = 0):\n",
    "        x = F.relu(self.fc1(x))\n",
    "        x = self.fc_pi(x)\n",
    "        prob = F.softmax(x, dim=softmax_dim)\n",
    "        return prob\n",
    "    \n",
    "    def v(self, x):\n",
    "        x = F.relu(self.fc1(x))\n",
    "        v = self.fc_v(x)\n",
    "        return v\n",
    "      \n",
    "        \n",
    "def make_batch():\n",
    "    s_lst, a_lst, r_lst, s_prime_lst, prob_a_lst, done_lst = [], [], [], [], [], []\n",
    "    for transition in data:\n",
    "        s, a, r, s_prime, prob_a, done = transition\n",
    "        \n",
    "        s_lst.append(s)\n",
    "        a_lst.append([a])\n",
    "        r_lst.append([r])\n",
    "        s_prime_lst.append(s_prime)\n",
    "        prob_a_lst.append([prob_a])\n",
    "        done_mask = 0 if done else 1\n",
    "        done_lst.append([done_mask])\n",
    "            \n",
    "    s,a,r,s_prime,done_mask, prob_a = torch.tensor(s_lst, dtype=torch.float), torch.tensor(a_lst), \\\n",
    "                                      torch.tensor(r_lst, dtype=torch.float), torch.tensor(s_prime_lst, dtype=torch.float), \\\n",
    "                                      torch.tensor(done_lst, dtype=torch.float), torch.tensor(prob_a_lst)\n",
    "\n",
    "    return s, a, r, s_prime, done_mask, prob_a\n",
    "        \n",
    "        \n",
    "def train(model,optimizer):\n",
    "    s, a, r, s_prime, done_mask, prob_a = make_batch()\n",
    "\n",
    "    for i in range(K_epoch):\n",
    "        td_target = r + gamma * model.v(s_prime) * done_mask\n",
    "        delta = td_target - model.v(s)\n",
    "        delta = delta.detach().numpy()\n",
    "\n",
    "        advantage_lst = []\n",
    "        advantage = 0.0\n",
    "        for delta_t in delta[::-1]:\n",
    "            advantage = gamma * lmbda * advantage + delta_t[0]\n",
    "            advantage_lst.append([advantage])\n",
    "        advantage_lst.reverse()\n",
    "        advantage = torch.tensor(advantage_lst, dtype=torch.float)\n",
    "\n",
    "        pi = model.pi(s, softmax_dim=1)\n",
    "        pi_a = pi.gather(1,a)\n",
    "        ratio = torch.exp(torch.log(pi_a) - torch.log(prob_a))  # a/b == exp(log(a)-log(b))\n",
    "        surr1 = ratio * advantage\n",
    "        surr2 = torch.clamp(ratio, 1-eps_clip, 1+eps_clip) * advantage\n",
    "        loss = -torch.min(surr1, surr2) + F.smooth_l1_loss(model.v(s) , td_target.detach())\n",
    "\n",
    "        optimizer.zero_grad()\n",
    "        loss.mean().backward()\n",
    "        optimizer.step()\n",
    "\n",
    "\n",
    "\n",
    "#env = gym.make('LunarLander-v2')        \n",
    "env = gym.make('CartPole-v1')\n",
    "model = PPO()\n",
    "optimizer = optim.Adam(model.parameters(), lr=learning_rate)\n",
    "\n",
    "\n",
    "score = 0.0\n",
    "print_interval = 20\n",
    "scores = []\n",
    "for n_epi in range(3000):\n",
    "    s = env.reset()\n",
    "    done = False\n",
    "    data = []\n",
    "    while not done:\n",
    "        for t in range(T_horizon):\n",
    "           \n",
    "            prob = model.pi(torch.from_numpy(s).float())\n",
    "            m = Categorical(prob)\n",
    "            a = m.sample().item()\n",
    "            s_prime, r, done, info = env.step(a)\n",
    "            data.append((s, a, r/100.0, s_prime, prob[a].item(), done))\n",
    "            s = s_prime\n",
    "\n",
    "            score += r\n",
    "            if done:\n",
    "                break\n",
    "\n",
    "\n",
    "        train(model,optimizer)\n",
    "        data = []\n",
    "\n",
    "    if n_epi%print_interval==0 and n_epi!=0:\n",
    "        clear_output(wait=True)\n",
    "        print(\"# of episode :{}, avg score : {:.1f}\".format(n_epi, score/print_interval))\n",
    "        scores.append(score)\n",
    "        score = 0.0\n",
    "\n",
    "env.close()\n"
   ]
  },
  {
   "cell_type": "code",
   "execution_count": 7,
   "metadata": {},
   "outputs": [
    {
     "data": {
      "image/png": "[encoded data removed]",
      "text/plain": [
       "<Figure size 432x288 with 1 Axes>"
      ]
     },
     "metadata": {
      "needs_background": "light"
     },
     "output_type": "display_data"
    }
   ],
   "source": [
    "import matplotlib.pyplot as plt\n",
    "import numpy as np\n",
    "\n",
    "plt.plot(range(len(scores)), np.array(scores), 'b', linewidth = 2, label = 'PPO')\n",
    "plt.legend(prop={'size':12})\n",
    "plt.xlabel('Episode')\n",
    "plt.ylabel('Total rewards')\n",
    "#plt.xlim(0, no_of_episodes)\n",
    "#plt.ylim(0, 20000)\n",
    "#plt.legend(['Double DQN', 'Dueling DQN', 'D3QN'], loc=4)\n",
    "plt.grid(True)"
   ]
  },
  {
   "cell_type": "code",
   "execution_count": 8,
   "metadata": {},
   "outputs": [
    {
     "name": "stdout",
     "output_type": "stream",
     "text": [
      "Episode: 1 Score: 343.0\n",
      "Episode: 2 Score: 719.0\n",
      "Episode: 3 Score: 1147.0\n"
     ]
    }
   ],
   "source": [
    "# TEST   \n",
    "episode = 0\n",
    "s = env.reset()    \n",
    "score = 0\n",
    "while episode < 3:  # episode loop\n",
    "    env.render()\n",
    "    prob = model.pi(torch.from_numpy(s).float())\n",
    "    m = Categorical(prob)\n",
    "    a = m.sample().item()\n",
    "    s_prime, r, done, info = env.step(a)  # take a random action\n",
    "    s = s_prime\n",
    "    sleep(0.01)\n",
    "    if done:\n",
    "        env.close()\n",
    "    score = score + r\n",
    "    if done:\n",
    "        episode = episode + 1\n",
    "        print('Episode: {} Score: {}'.format(episode, score))\n",
    "        state = env.reset()\n",
    "env.close()    "
   ]
  },
  {
   "cell_type": "code",
   "execution_count": null,
   "metadata": {},
   "outputs": [],
   "source": []
  }
 ],
 "metadata": {
  "kernelspec": {
   "display_name": "Python 3",
   "language": "python",
   "name": "python3"
  },
  "language_info": {
   "codemirror_mode": {
    "name": "ipython",
    "version": 3
   },
   "file_extension": ".py",
   "mimetype": "text/x-python",
   "name": "python",
   "nbconvert_exporter": "python",
   "pygments_lexer": "ipython3",
   "version": "3.8.5"
  }
 },
 "nbformat": 4,
 "nbformat_minor": 4
}
