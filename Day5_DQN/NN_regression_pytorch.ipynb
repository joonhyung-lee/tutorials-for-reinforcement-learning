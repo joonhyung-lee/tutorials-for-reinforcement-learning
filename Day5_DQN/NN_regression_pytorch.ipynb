{
 "cells": [
  {
   "cell_type": "code",
   "execution_count": null,
   "metadata": {},
   "outputs": [],
   "source": [
    "import numpy as np\n",
    "import torch\n",
    "from torch.optim import Adam\n",
    "from torch.nn import Module, Linear\n",
    "import torch.nn.functional as F\n",
    "class Network(Module):\n",
    "    def __init__(self):\n",
    "        super().__init__()\n",
    "        self.fc1 = Linear(1, 64)\n",
    "        self.fc2 = Linear(64, 64)\n",
    "        self.fc3 = Linear(64, 1)\n",
    "    def forward(self, x):\n",
    "        x = self.fc1(x)\n",
    "        x = F.relu(x)\n",
    "        x = self.fc2(x)\n",
    "        x = F.relu(x)\n",
    "        x = self.fc3(x)\n",
    "        return x.squeeze(dim=-1)\n",
    "    \n",
    "    \n",
    "model = Network()\n",
    "optimizer = Adam(model.parameters(), lr=0.001)\n",
    "num_points = 200\n",
    "x = []\n",
    "y = []\n",
    "param = [1, 0.1, 0.3]\n",
    "for i in range(num_points):\n",
    "    temp_x = np.random.normal(1.0, 1)\n",
    "    temp_y = param[0]*temp_x**2 + param[1]*temp_x + np.random.normal(0.0, 1.0)\n",
    "    x.append(temp_x)\n",
    "    y.append(temp_y)\n",
    "x = torch.tensor(x, dtype=torch.float32).view(num_points, -1)\n",
    "y = torch.tensor(y, dtype=torch.float32)\n",
    "for i in range(5000):\n",
    "    loss = ((model(x) - y)**2).mean()\n",
    "    optimizer.zero_grad()\n",
    "    loss.backward()\n",
    "    optimizer.step()\n",
    "    if i % 100 == 0:\n",
    "        print('iteraion: {}, loss: {}'.format(i + 1, loss))"
   ]
  }
 ],
 "metadata": {
  "kernelspec": {
   "display_name": "Python 3",
   "language": "python",
   "name": "python3"
  },
  "language_info": {
   "codemirror_mode": {
    "name": "ipython",
    "version": 3
   },
   "file_extension": ".py",
   "mimetype": "text/x-python",
   "name": "python",
   "nbconvert_exporter": "python",
   "pygments_lexer": "ipython3",
   "version": "3.8.3"
  }
 },
 "nbformat": 4,
 "nbformat_minor": 4
}
