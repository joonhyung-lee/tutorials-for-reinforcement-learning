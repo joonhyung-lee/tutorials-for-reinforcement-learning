{
 "cells": [
  {
   "cell_type": "code",
   "execution_count": null,
   "metadata": {},
   "outputs": [],
   "source": [
    "import gym\n",
    "from time import sleep\n",
    "\n",
    "env = gym.make(\"Pendulum-v0\")\n",
    "\n",
    "\n",
    "\n",
    "print(\"Action Space {}\".format(env.action_space))\n",
    "# continuous state-space\n",
    "print(\"State Space {}\".format(env.observation_space))\n",
    "\n",
    "\n",
    "env.reset()\n",
    "\n",
    "done2 = False\n",
    "while not done2:\n",
    "    action = env.action_space.sample()  # always go right!\n",
    "    new_state, reward, done , _ = env.step(action)\n",
    "    print(reward, new_state)\n",
    "    env.render()\n",
    "    sleep(.01)\n",
    "env.end()"
   ]
  },
  {
   "cell_type": "code",
   "execution_count": null,
   "metadata": {},
   "outputs": [],
   "source": []
  }
 ],
 "metadata": {
  "kernelspec": {
   "display_name": "Python 3",
   "language": "python",
   "name": "python3"
  },
  "language_info": {
   "codemirror_mode": {
    "name": "ipython",
    "version": 3
   },
   "file_extension": ".py",
   "mimetype": "text/x-python",
   "name": "python",
   "nbconvert_exporter": "python",
   "pygments_lexer": "ipython3",
   "version": "3.8.3"
  }
 },
 "nbformat": 4,
 "nbformat_minor": 4
}
