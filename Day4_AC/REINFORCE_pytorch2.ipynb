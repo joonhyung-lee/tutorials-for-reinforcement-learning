{
 "cells": [
  {
   "cell_type": "code",
   "execution_count": 1,
   "metadata": {},
   "outputs": [
    {
     "name": "stdout",
     "output_type": "stream",
     "text": [
      "# of episode :9980, avg score : 491.65\n"
     ]
    }
   ],
   "source": [
    "import gym\n",
    "import torch\n",
    "import torch.nn as nn\n",
    "import torch.nn.functional as F\n",
    "import torch.optim as optim\n",
    "from torch.distributions import Categorical\n",
    "from IPython.display import clear_output\n",
    "from time import sleep\n",
    "\n",
    "\n",
    "#Hyperparameters\n",
    "learning_rate = 0.0002\n",
    "gamma         = 0.98\n",
    "\n",
    "\n",
    "device = torch.device(\"cuda\" if torch.cuda.is_available() else \"cpu\")\n",
    "\n",
    "\n",
    "class Policy(nn.Module):\n",
    "    def __init__(self):\n",
    "        super(Policy, self).__init__()\n",
    "        \n",
    "        \n",
    "        self.fc1 = nn.Linear(4, 128)\n",
    "        self.fc2 = nn.Linear(128, 2)\n",
    "        \n",
    "        \n",
    "    def forward(self, x):\n",
    "        x = F.relu(self.fc1(x))\n",
    "        x = F.softmax(self.fc2(x), dim=0)\n",
    "        return x\n",
    "      \n",
    "\n",
    "        \n",
    "\n",
    "\n",
    "env = gym.make('CartPole-v1')\n",
    "pi = Policy().to(device)\n",
    "optimizer = optim.Adam(pi.parameters(), lr=learning_rate)\n",
    "\n",
    "score = 0.0\n",
    "print_interval = 20\n",
    "    \n",
    "\n",
    "scores = []\n",
    "for n_epi in range(10000):\n",
    "    s = env.reset()\n",
    "    done = False\n",
    "    data = []\n",
    "    while not done: # CartPole-v1 forced to terminates at 500 step.\n",
    "        prob = pi(torch.from_numpy(s).float().to(device))\n",
    "        m = Categorical(prob)\n",
    "        a = m.sample()\n",
    "        s_prime, r, done, info = env.step(a.item())\n",
    "        data.append((r,prob[a]))\n",
    "        s = s_prime\n",
    "        score += r\n",
    "        \n",
    "            \n",
    "    G = 0\n",
    "    optimizer.zero_grad()\n",
    "    for r, prob in data[::-1]:\n",
    "        G = r + gamma * G\n",
    "        loss = -torch.log(prob).to(device) * G\n",
    "        loss.backward()\n",
    "    optimizer.step()\n",
    "    data = []\n",
    "    \n",
    "    if n_epi%print_interval==0 and n_epi!=0:\n",
    "        clear_output(wait=True)\n",
    "        print(\"# of episode :{}, avg score : {}\".format(n_epi, score/print_interval))\n",
    "        scores.append(score)\n",
    "        score = 0.0\n",
    "env.close()\n",
    "\n",
    "\n",
    "\n"
   ]
  },
  {
   "cell_type": "code",
   "execution_count": null,
   "metadata": {},
   "outputs": [],
   "source": [
    "import matplotlib.pyplot as plt\n",
    "plt.plot(range(len(scores)), np.array(scores), 'b', linewidth = 2, label = 'REINFORCE')\n",
    "plt.legend(prop={'size':12})\n",
    "plt.xlabel('Episode')\n",
    "plt.ylabel('Total rewards')\n",
    "#plt.xlim(0, no_of_episodes)\n",
    "#plt.ylim(0, 20000)\n",
    "#plt.legend(['Double DQN', 'Dueling DQN', 'D3QN'], loc=4)\n",
    "plt.grid(True)"
   ]
  },
  {
   "cell_type": "code",
   "execution_count": 3,
   "metadata": {},
   "outputs": [
    {
     "name": "stdout",
     "output_type": "stream",
     "text": [
      "Episode: 10 Score: 500.0\n"
     ]
    }
   ],
   "source": [
    "\n",
    "# TEST   \n",
    "episode = 0\n",
    "state = env.reset()    \n",
    "score = 0\n",
    "while episode < 10:  # episode loop\n",
    "    env.render()       \n",
    "    prob = pi(torch.from_numpy(state).float().to(device))\n",
    "    m = Categorical(prob)\n",
    "    action = m.sample().item()\n",
    "    next_state, reward, done, info = env.step(action)  # take a random action\n",
    "    state = next_state\n",
    "    sleep(0.01)\n",
    "    score = score + reward\n",
    "    if done:\n",
    "        episode = episode + 1\n",
    "        clear_output(wait=True)\n",
    "        print('Episode: {} Score: {}'.format(episode, score))\n",
    "        state = env.reset()\n",
    "        score = 0\n",
    "env.close()       \n"
   ]
  },
  {
   "cell_type": "code",
   "execution_count": null,
   "metadata": {},
   "outputs": [],
   "source": []
  }
 ],
 "metadata": {
  "kernelspec": {
   "display_name": "Python 3",
   "language": "python",
   "name": "python3"
  },
  "language_info": {
   "codemirror_mode": {
    "name": "ipython",
    "version": 3
   },
   "file_extension": ".py",
   "mimetype": "text/x-python",
   "name": "python",
   "nbconvert_exporter": "python",
   "pygments_lexer": "ipython3",
   "version": "3.8.5"
  }
 },
 "nbformat": 4,
 "nbformat_minor": 4
}
