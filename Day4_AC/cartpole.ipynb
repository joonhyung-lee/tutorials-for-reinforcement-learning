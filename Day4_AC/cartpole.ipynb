{
 "cells": [
  {
   "cell_type": "code",
   "execution_count": 5,
   "metadata": {},
   "outputs": [
    {
     "name": "stdout",
     "output_type": "stream",
     "text": [
      "Action Space Discrete(2)\n",
      "State Space Box(4,)\n",
      "2\n",
      "[ 0.02421337 -0.21476896 -0.03566243  0.26908106]\n",
      "[ 0.01991799 -0.01915671 -0.03028081 -0.03463328]\n",
      "[ 0.01953485  0.1763861  -0.03097347 -0.33671422]\n",
      "[ 0.02306257 -0.0182817  -0.03770776 -0.05395733]\n",
      "[ 0.02269694  0.17736008 -0.0387869  -0.35829483]\n",
      "[ 0.02624414  0.37301135 -0.0459528  -0.6629515 ]\n",
      "[ 0.03370437  0.17855783 -0.05921183 -0.3850845 ]\n",
      "[ 0.03727553  0.37446822 -0.06691352 -0.69583319]\n",
      "[ 0.04476489  0.18033496 -0.08083018 -0.42494288]\n",
      "[ 0.04837159  0.37650329 -0.08932904 -0.74197285]\n",
      "[ 0.05590166  0.18272058 -0.1041685  -0.47868557]\n",
      "[ 0.05955607 -0.01078839 -0.11374221 -0.22056572]\n",
      "[ 0.0593403  -0.2041163  -0.11815352  0.03418417]\n",
      "[ 0.05525797 -0.39736314 -0.11746984  0.28737708]\n",
      "[ 0.04731071 -0.20077898 -0.1117223  -0.03992374]\n",
      "[ 0.04329513 -0.00424699 -0.11252077 -0.36566189]\n",
      "[ 0.04321019 -0.19760508 -0.11983401 -0.11047022]\n",
      "[ 0.03925809 -0.00098798 -0.12204342 -0.43842777]\n",
      "[ 0.03923833  0.19563088 -0.13081197 -0.76695411]\n",
      "[ 0.04315095  0.39228785 -0.14615105 -1.09776843]\n",
      "[ 0.0509967   0.58899962 -0.16810642 -1.43250595]\n",
      "[ 0.0627767   0.78574931 -0.19675654 -1.77266106]\n",
      "[ 0.07849168  0.98247137 -0.23220976 -2.11952466]\n"
     ]
    }
   ],
   "source": [
    "import gym\n",
    "\n",
    "env = gym.make('CartPole-v0')\n",
    "\n",
    "print(\"Action Space {}\".format(env.action_space))\n",
    "# continuous state-space\n",
    "print(\"State Space {}\".format(env.observation_space))\n",
    "print(env.action_space.n)\n",
    "\n",
    "\"\"\"\n",
    "    Observation:\n",
    "        Type: Box(4)\n",
    "        Num   Observation               Min             Max\n",
    "        0     Cart Position             -4.8            4.8\n",
    "        1     Cart Velocity             -Inf            Inf\n",
    "        2     Pole Angle                -24 deg         24 deg\n",
    "        3     Pole Velocity At Tip      -Inf            Inf\n",
    "    Actions:\n",
    "        Type: Discrete(2)\n",
    "        Num   Action\n",
    "        0     Push cart to the left\n",
    "        1     Push cart to the right\n",
    "\"\"\"\n",
    "\n",
    "env.reset()\n",
    "\n",
    "done = False\n",
    "for _ in range(200):\n",
    "    env.render()\n",
    "    new_state, reward, done, info = env.step(env.action_space.sample())\n",
    "    env.render()\n",
    "    print(new_state)\n",
    "    if done: \n",
    "        env.close()\n",
    "        break\n",
    "env.close()"
   ]
  },
  {
   "cell_type": "code",
   "execution_count": null,
   "metadata": {},
   "outputs": [],
   "source": []
  }
 ],
 "metadata": {
  "kernelspec": {
   "display_name": "Python 3",
   "language": "python",
   "name": "python3"
  },
  "language_info": {
   "codemirror_mode": {
    "name": "ipython",
    "version": 3
   },
   "file_extension": ".py",
   "mimetype": "text/x-python",
   "name": "python",
   "nbconvert_exporter": "python",
   "pygments_lexer": "ipython3",
   "version": "3.8.3"
  }
 },
 "nbformat": 4,
 "nbformat_minor": 4
}
